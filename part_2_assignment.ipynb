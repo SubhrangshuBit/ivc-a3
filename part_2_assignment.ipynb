{
 "cells": [
  {
   "cell_type": "code",
   "execution_count": 1,
   "metadata": {},
   "outputs": [],
   "source": [
    "%load_ext autoreload\n",
    "%autoreload 2"
   ]
  },
  {
   "cell_type": "code",
   "execution_count": 4,
   "metadata": {},
   "outputs": [],
   "source": [
    "import numpy as np\n",
    "import json \n",
    "import cv2 \n",
    "from pa3_demo import load_obj_each_frame\n",
    "from hungarian import hungarian_assignment, build_cost_matrix\n",
    "\n",
    "BBOX_FILE = \"frame_dict.json\"\n",
    "VIDEO_FILE = \"commonwealth.mp4\"\n",
    "box_dict = load_obj_each_frame(BBOX_FILE)"
   ]
  },
  {
   "cell_type": "code",
   "execution_count": 5,
   "metadata": {},
   "outputs": [],
   "source": [
    "frame_dict = box_dict.copy()\n",
    "\n",
    "for frame_number in range(1, len(frame_dict)):\n",
    "    \n",
    "    frame1 = frame_dict[f\"{frame_number-1}\"]\n",
    "    frame2 = frame_dict[f\"{frame_number}\"]\n",
    "    cost_mat = build_cost_matrix(frame1, frame2)\n",
    "    tracks = hungarian_assignment(cost_mat)\n",
    "    # print(\"Number of cars in frame1: \", len(frame1))\n",
    "    # print(\"Number of cars in frame2: \", len(frame2))\n",
    "    if frame_number == 1:\n",
    "        for i, box in enumerate(frame1):\n",
    "            box[\"id\"] = i+1\n",
    "        \n",
    "    frame1_id, frame2_id = np.where(tracks==1)\n",
    "    # print(\"Frame number: \", frame_number)\n",
    "    # print(frame1_id)\n",
    "    for i, box in enumerate(frame2):\n",
    "        box[\"id\"] = int(frame2_id[i]+1)\n",
    "    # print(frame2)\n",
    "    # print()"
   ]
  },
  {
   "cell_type": "code",
   "execution_count": 6,
   "metadata": {},
   "outputs": [
    {
     "name": "stderr",
     "output_type": "stream",
     "text": [
      "OpenCV: FFMPEG: tag 0x5634504d/'MP4V' is not supported with codec id 12 and format 'mp4 / MP4 (MPEG-4 Part 14)'\n",
      "OpenCV: FFMPEG: fallback to use tag 0x7634706d/'mp4v'\n"
     ]
    }
   ],
   "source": [
    "def draw_object(object_dict, image):\n",
    "    x_min, y_min, w, h, id= object_dict[\"x_min\"], object_dict[\"y_min\"], object_dict[\"width\"], object_dict[\"height\"], object_dict[\"id\"]\n",
    "    image = cv2.rectangle(image, (x_min, y_min), (x_min + w, y_min + h), (0, 255, 0), 2)\n",
    "    image = cv2.putText(image, f\"ID: {id}\", (x_min, y_min - 10), cv2.FONT_HERSHEY_SIMPLEX, 0.5, (0, 255, 0), 2)\n",
    "    return image\n",
    "\n",
    "def draw_objects_in_video(video_file,frame_dict, output_file = \"part_2_demo_test.mp4\"):\n",
    "    cap = cv2.VideoCapture(video_file)\n",
    "    ok, image = cap.read()\n",
    "    vidwrite = cv2.VideoWriter(output_file, cv2.VideoWriter_fourcc(*'MP4V'), 30, (700,500))\n",
    "    while ok:\n",
    "        ######!!!!#######\n",
    "        image = cv2.resize(image, (700, 500)) # make sure your video is resize to this size, otherwise the coords in the data file won't work !!!\n",
    "        ######!!!!#######\n",
    "        frame_number = int(cap.get(cv2.CAP_PROP_POS_FRAMES))\n",
    "        objects = frame_dict.get(str(frame_number), [])\n",
    "        for obj in objects: \n",
    "            image = draw_object(obj, image)\n",
    "        vidwrite.write(image)\n",
    "        ok, image = cap.read()\n",
    "    vidwrite.release()\n",
    "    cap.release()\n",
    "\n",
    "draw_objects_in_video(VIDEO_FILE, frame_dict, output_file=\"part_2_demo.mp4\")\n",
    "dumped = json.dumps(frame_dict)\n",
    "\n",
    "with open(\"part_2_frame_dict.json\" , \"w\") as f:\n",
    "    f.write(dumped)"
   ]
  }
 ],
 "metadata": {
  "kernelspec": {
   "display_name": "ivc",
   "language": "python",
   "name": "python3"
  },
  "language_info": {
   "codemirror_mode": {
    "name": "ipython",
    "version": 3
   },
   "file_extension": ".py",
   "mimetype": "text/x-python",
   "name": "python",
   "nbconvert_exporter": "python",
   "pygments_lexer": "ipython3",
   "version": "3.11.7"
  }
 },
 "nbformat": 4,
 "nbformat_minor": 2
}
